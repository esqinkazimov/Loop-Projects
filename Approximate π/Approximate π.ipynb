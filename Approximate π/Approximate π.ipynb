{
 "cells": [
  {
   "cell_type": "code",
   "execution_count": 1,
   "metadata": {},
   "outputs": [
    {
     "name": "stdout",
     "output_type": "stream",
     "text": [
      "Enter the number of approximations: 50000\n",
      "Approximate value of π after 50000 iterations is 3.1415926535897936\n"
     ]
    }
   ],
   "source": [
    "## Approximate π\n",
    "\n",
    "# Store the value of π and other iteration variables\n",
    "pi = 0\n",
    "k = 2\n",
    "sum1 = 0\n",
    "sum2 = 0\n",
    "\n",
    "# Read the number of approximations\n",
    "n = int(input('Enter the number of approximations: '))\n",
    "\n",
    "# Approximate the value of π\n",
    "while k <= n:\n",
    "    m = 2*k\n",
    "    if (m / 2) % 2 == 1:\n",
    "        sum2 += 4 / ((m - 2) * (m - 1) * (m))\n",
    "    elif (m / 2) % 2  == 0:\n",
    "        sum1 += 4 / ((m - 2) * (m - 1) * (m))\n",
    "    k += 1 \n",
    "\n",
    "# Display the result\n",
    "pi = 3 + sum1 - sum2 \n",
    "print('Approximate value of π after', n, 'iterations is', pi)"
   ]
  }
 ],
 "metadata": {
  "kernelspec": {
   "display_name": "Python 3",
   "language": "python",
   "name": "python3"
  },
  "language_info": {
   "codemirror_mode": {
    "name": "ipython",
    "version": 3
   },
   "file_extension": ".py",
   "mimetype": "text/x-python",
   "name": "python",
   "nbconvert_exporter": "python",
   "pygments_lexer": "ipython3",
   "version": "3.6.5"
  }
 },
 "nbformat": 4,
 "nbformat_minor": 2
}
