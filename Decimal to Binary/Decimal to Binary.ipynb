{
 "cells": [
  {
   "cell_type": "code",
   "execution_count": 1,
   "metadata": {},
   "outputs": [
    {
     "name": "stdout",
     "output_type": "stream",
     "text": [
      "Enter a non-negative integer: 10\n",
      "10 in Decimal is 1010 in Binary.\n"
     ]
    }
   ],
   "source": [
    "## Convert a number from Decimal (base 10) to Binary (base 2)\n",
    "\n",
    "NEW_BASE = 2\n",
    "\n",
    "# Read the number to convert from the user\n",
    "num = int(input('Enter a non-negative integer: '))\n",
    "\n",
    "# Generate the binary representation of num, storing it in the result\n",
    "result = ''\n",
    "q = num\n",
    "\n",
    "# Perform the body of the loop once\n",
    "#r = q % NEW_BASE\n",
    "#result = str(r) + result\n",
    "#q = q // NEW_BASE\n",
    "\n",
    "# Keep on looing until q == 0\n",
    "while q > 0:\n",
    "    r = q % NEW_BASE\n",
    "    result = str(r) + result\n",
    "    q = q // NEW_BASE\n",
    "    \n",
    "# Display the result\n",
    "print(num, 'in Decimal is', result, 'in Binary.')"
   ]
  }
 ],
 "metadata": {
  "kernelspec": {
   "display_name": "Python 3",
   "language": "python",
   "name": "python3"
  },
  "language_info": {
   "codemirror_mode": {
    "name": "ipython",
    "version": 3
   },
   "file_extension": ".py",
   "mimetype": "text/x-python",
   "name": "python",
   "nbconvert_exporter": "python",
   "pygments_lexer": "ipython3",
   "version": "3.6.5"
  }
 },
 "nbformat": 4,
 "nbformat_minor": 2
}
