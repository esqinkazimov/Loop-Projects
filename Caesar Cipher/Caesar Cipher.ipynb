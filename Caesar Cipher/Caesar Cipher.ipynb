{
 "cells": [
  {
   "cell_type": "code",
   "execution_count": 1,
   "metadata": {},
   "outputs": [
    {
     "name": "stdout",
     "output_type": "stream",
     "text": [
      "Enter the message: Hello World!\n",
      "Enter the shift value: 15\n",
      "The shifted message is Wtaad Ldgas!\n"
     ]
    }
   ],
   "source": [
    "''' Implement a Ceaser chiper that shifts all of the letters in a message\n",
    "    by an amount provided by the user. Use a negative shift value to decode a meassage'''\n",
    "\n",
    "# Read the meassage and shift amount from the user\n",
    "message = input('Enter the message: ')\n",
    "shift = int(input('Enter the shift value: '))\n",
    "\n",
    "# Process each character, construction a new message\n",
    "new_message = ''\n",
    "for ch in message:\n",
    "    if ch >= 'a' and ch <= 'z':\n",
    "        # Process a lowercase letter by determining its \n",
    "        # position in the alphabet (0-25), computing its\n",
    "        # new position, and adding it to the new message\n",
    "        pos = ord(ch) - ord('a')\n",
    "        pos = (pos + shift) % 26\n",
    "        new_char = chr(pos + ord('a'))\n",
    "        new_message = new_message + new_char      \n",
    "    elif ch >= 'A' and ch <= 'Z':\n",
    "        # Process an uppercase letter by determining its\n",
    "        # position in the alphabet (0-25), computing its\n",
    "        # new position, and adding it to the new message\n",
    "        pos = ord(ch) - ord('A')\n",
    "        pos = (pos + shift) % 26\n",
    "        new_char = chr(pos + ord('A'))\n",
    "        new_message = new_message + new_char \n",
    "    else: \n",
    "        # If the character is not a letter then copy it into the new message\n",
    "        new_message = new_message + ch\n",
    "        \n",
    "# Display the shifted message\n",
    "print('The shifted message is', new_message)"
   ]
  }
 ],
 "metadata": {
  "kernelspec": {
   "display_name": "Python 3",
   "language": "python",
   "name": "python3"
  },
  "language_info": {
   "codemirror_mode": {
    "name": "ipython",
    "version": 3
   },
   "file_extension": ".py",
   "mimetype": "text/x-python",
   "name": "python",
   "nbconvert_exporter": "python",
   "pygments_lexer": "ipython3",
   "version": "3.6.5"
  }
 },
 "nbformat": 4,
 "nbformat_minor": 2
}
