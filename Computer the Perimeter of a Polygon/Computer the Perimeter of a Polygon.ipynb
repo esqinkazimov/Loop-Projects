{
 "cells": [
  {
   "cell_type": "code",
   "execution_count": 1,
   "metadata": {},
   "outputs": [
    {
     "name": "stdout",
     "output_type": "stream",
     "text": [
      "Enter the x part of the coordinate: -7.5\n",
      "Enter the y part of the coordinate: 0\n",
      "Enter the x part of the coordinate (blank to quit): 0\n",
      "Enter the y part of the coordinate:6.5\n",
      "Enter the x part of the coordinate (blank to quit): 6.5\n",
      "Enter the y part of the coordinate:0\n",
      "Enter the x part of the coordinate (blank to quit): 0\n",
      "Enter the y part of the coordinate:-4.5\n",
      "Enter the x part of the coordinate (blank to quit): \n",
      "The perimeter of that polygon is 35.76922676875362\n"
     ]
    }
   ],
   "source": [
    "'''Compute the perimeter of a polygon. The user will enter a blank line\n",
    "for the x-coordinate to indicate that all of the points have been entered.'''\n",
    "\n",
    "from math import sqrt\n",
    "\n",
    "# Store the perimeter of the polygon\n",
    "perimeter = 0\n",
    "\n",
    "# Read the coordinate of the first point\n",
    "first_x = float(input('Enter the x part of the coordinate: '))\n",
    "first_y = float(input('Enter the y part of the coordinate: '))\n",
    "\n",
    "# Provide initial values for prev_x and prev_y\n",
    "prev_x = first_x\n",
    "prev_y = first_y\n",
    "\n",
    "# Read the remaining coordinates\n",
    "line = input('Enter the x part of the coordinate (blank to quit): ')\n",
    "while line != '':\n",
    "    # Convert the x part to a number and read the y part\n",
    "    x = float(line)\n",
    "    y = float(input('Enter the y part of the coordinate:'))\n",
    "    \n",
    "    # Compute the distnce to the previous point and add it to the perimeter\n",
    "    dist = sqrt((prev_x - x) ** 2 + (prev_y - y) ** 2)\n",
    "    perimeter = perimeter + dist\n",
    "    \n",
    "    # Set up prev_x and prev_y for the next loop iteration\n",
    "    prev_x = x\n",
    "    prev_y = y\n",
    "    \n",
    "    # Read the x part of the next coordinate\n",
    "    line = input('Enter the x part of the coordinate (blank to quit): ')\n",
    "    \n",
    "# Compute the distance from the last point to the first point and add it to the perimeter\n",
    "dist = sqrt((first_x - x) ** 2 + (first_y - y) ** 2)\n",
    "perimeter = perimeter + dist\n",
    "\n",
    "# Display the result\n",
    "print('The perimeter of that polygon is', perimeter)"
   ]
  }
 ],
 "metadata": {
  "kernelspec": {
   "display_name": "Python 3",
   "language": "python",
   "name": "python3"
  },
  "language_info": {
   "codemirror_mode": {
    "name": "ipython",
    "version": 3
   },
   "file_extension": ".py",
   "mimetype": "text/x-python",
   "name": "python",
   "nbconvert_exporter": "python",
   "pygments_lexer": "ipython3",
   "version": "3.6.5"
  }
 },
 "nbformat": 4,
 "nbformat_minor": 2
}
