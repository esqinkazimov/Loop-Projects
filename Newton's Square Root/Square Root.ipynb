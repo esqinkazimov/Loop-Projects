{
 "cells": [
  {
   "cell_type": "code",
   "execution_count": 1,
   "metadata": {},
   "outputs": [
    {
     "name": "stdout",
     "output_type": "stream",
     "text": [
      "Enter the number: 5757\n",
      "The square root of the number 5757.0 is 75.87489703452651\n"
     ]
    }
   ],
   "source": [
    "## Compute the square root of a number entered by the user\n",
    "\n",
    "# Read the number from the user\n",
    "number = float(input('Enter the number: '))\n",
    "\n",
    "# Compute the square root of the number\n",
    "guess = number / 2\n",
    "while not abs(guess ** 2 - number) <=  10 ** (-1 * 14):\n",
    "    guess = 1/2 * (guess + number/ guess)\n",
    "    \n",
    "# Display the result\n",
    "print('The square root of the number', number, 'is', guess)"
   ]
  },
  {
   "cell_type": "code",
   "execution_count": null,
   "metadata": {},
   "outputs": [],
   "source": []
  }
 ],
 "metadata": {
  "kernelspec": {
   "display_name": "Python 3",
   "language": "python",
   "name": "python3"
  },
  "language_info": {
   "codemirror_mode": {
    "name": "ipython",
    "version": 3
   },
   "file_extension": ".py",
   "mimetype": "text/x-python",
   "name": "python",
   "nbconvert_exporter": "python",
   "pygments_lexer": "ipython3",
   "version": "3.6.5"
  }
 },
 "nbformat": 4,
 "nbformat_minor": 2
}
