{
 "cells": [
  {
   "cell_type": "code",
   "execution_count": 1,
   "metadata": {},
   "outputs": [
    {
     "name": "stdout",
     "output_type": "stream",
     "text": [
      "Enter a positive integer: 456\n",
      "Prime factors of 456 are: \n",
      "2\n",
      "2\n",
      "2\n",
      "3\n",
      "19\n"
     ]
    }
   ],
   "source": [
    "## Determine the prime factors of a given integer\n",
    "\n",
    "# Read the positive integer from the user\n",
    "number = int(input('Enter a positive integer: '))\n",
    "\n",
    "# Initialize factor to the 2\n",
    "factor = 2\n",
    "\n",
    "# Use a while loop to find the prime factors and display the results\n",
    "if number < 2:\n",
    "    print('Enter a valid number')\n",
    "else:\n",
    "    print('Prime factors of', number, 'are: ')\n",
    "    while factor <= number:\n",
    "        if number % factor == 0:\n",
    "            number /= factor\n",
    "            print(factor)\n",
    "        else:\n",
    "            factor += 1"
   ]
  }
 ],
 "metadata": {
  "kernelspec": {
   "display_name": "Python 3",
   "language": "python",
   "name": "python3"
  },
  "language_info": {
   "codemirror_mode": {
    "name": "ipython",
    "version": 3
   },
   "file_extension": ".py",
   "mimetype": "text/x-python",
   "name": "python",
   "nbconvert_exporter": "python",
   "pygments_lexer": "ipython3",
   "version": "3.6.5"
  }
 },
 "nbformat": 4,
 "nbformat_minor": 2
}
