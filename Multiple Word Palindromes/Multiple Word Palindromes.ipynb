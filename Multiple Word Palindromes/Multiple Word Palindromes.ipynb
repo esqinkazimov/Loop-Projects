{
 "cells": [
  {
   "cell_type": "code",
   "execution_count": 1,
   "metadata": {},
   "outputs": [
    {
     "name": "stdout",
     "output_type": "stream",
     "text": [
      "Enter a string: sOme men iNterpret nIne mEmos...\n",
      "'sOme men iNterpret nIne mEmos...' is a palindrome\n"
     ]
    }
   ],
   "source": [
    "## Determine whether or not a string entered by the user is a palindrome.\n",
    "\n",
    "# Read the input from the user\n",
    "line = input('Enter a string: ')\n",
    "original = line\n",
    "\n",
    "# Assume that it is a palindrome until we can prove otherwise\n",
    "is_plaindrome  = True\n",
    "\n",
    "# Ignore spacing\n",
    "line = line.replace(' ', '')\n",
    "\n",
    "# Ignore punctuation marks\n",
    "signs = ['.', ',' , '!', '@', '?', \"'\", ':', ';', '<', '>', '%', '$', '*', '&', '(', ')', '#']\n",
    "for sign in signs:\n",
    "    line = line.replace(sign, '')\n",
    "\n",
    "# Check the characters, starting from the end until the middle is reached\n",
    "for i in range(0, len(line) // 2):\n",
    "    # If the characters don't match then mark that the string is not a palindrome\n",
    "    if line[i].lower() != line[len(line) - i - 1].lower():\n",
    "        is_plaindrome = False\n",
    "        \n",
    "# Display the meaningful output message\n",
    "if is_plaindrome:\n",
    "    print(\"'\"+original+\"'\",'is a palindrome')\n",
    "else:\n",
    "    print(\"'\"+original+\"'\",'is not a palindrome')"
   ]
  }
 ],
 "metadata": {
  "kernelspec": {
   "display_name": "Python 3",
   "language": "python",
   "name": "python3"
  },
  "language_info": {
   "codemirror_mode": {
    "name": "ipython",
    "version": 3
   },
   "file_extension": ".py",
   "mimetype": "text/x-python",
   "name": "python",
   "nbconvert_exporter": "python",
   "pygments_lexer": "ipython3",
   "version": "3.6.5"
  }
 },
 "nbformat": 4,
 "nbformat_minor": 2
}
