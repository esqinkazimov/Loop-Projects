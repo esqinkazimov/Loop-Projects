{
 "cells": [
  {
   "cell_type": "code",
   "execution_count": 1,
   "metadata": {},
   "outputs": [
    {
     "name": "stdout",
     "output_type": "stream",
     "text": [
      "Enter a number: 0\n",
      "Enter a number other than 0 when you write your first number.\n",
      "Enter a number: 0\n",
      "Enter a number other than 0 when you write your first number.\n",
      "Enter a number: 4\n",
      "Enter a number: 5\n",
      "Enter a number: 6\n",
      "Enter a number: 0\n",
      "Average of a values entered is 5.0\n"
     ]
    }
   ],
   "source": [
    "## Compute the average of a collection of a values entered by the user\n",
    "\n",
    "# Name the new variables\n",
    "sum = 0\n",
    "count = -1\n",
    "\n",
    "# Compute the average\n",
    "while True:\n",
    "    number = int(input('Enter a number: '))\n",
    "    sum += number\n",
    "    count += 1\n",
    "    if number == 0:\n",
    "        if sum == 0:\n",
    "            count -= 1\n",
    "            print('Enter a number other than 0 when you write your first number.')\n",
    "            continue\n",
    "        else:\n",
    "            break\n",
    "\n",
    "# Display the result\n",
    "print('Average of a values entered is', sum / count)"
   ]
  }
 ],
 "metadata": {
  "kernelspec": {
   "display_name": "Python 3",
   "language": "python",
   "name": "python3"
  },
  "language_info": {
   "codemirror_mode": {
    "name": "ipython",
    "version": 3
   },
   "file_extension": ".py",
   "mimetype": "text/x-python",
   "name": "python",
   "nbconvert_exporter": "python",
   "pygments_lexer": "ipython3",
   "version": "3.6.5"
  }
 },
 "nbformat": 4,
 "nbformat_minor": 2
}
