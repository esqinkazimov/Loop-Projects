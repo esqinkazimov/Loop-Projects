{
 "cells": [
  {
   "cell_type": "code",
   "execution_count": 1,
   "metadata": {},
   "outputs": [
    {
     "name": "stdout",
     "output_type": "stream",
     "text": [
      "Enter a positive integer: 344\n",
      "Enter a positive integer: 234\n",
      "The greatest common divisor of 344 and 234 is 2\n"
     ]
    }
   ],
   "source": [
    "## Compute the gratest common divisor of two positive integers using a while loop\n",
    "\n",
    "# Read two positive integers from the user\n",
    "n = int(input('Enter a positive integer: '))\n",
    "m = int(input('Enter a positive integer: '))\n",
    "\n",
    "# Initialize d to the smaller of n and m\n",
    "d = min(n, m)\n",
    "\n",
    "# Use a while loop to find the greatest common divisor of n and m\n",
    "while n % d != 0 or m % d != 0:\n",
    "    d = d - 1\n",
    "    \n",
    "# Report the result\n",
    "print('The greatest common divisor of', n, 'and', m, 'is', d)"
   ]
  }
 ],
 "metadata": {
  "kernelspec": {
   "display_name": "Python 3",
   "language": "python",
   "name": "python3"
  },
  "language_info": {
   "codemirror_mode": {
    "name": "ipython",
    "version": 3
   },
   "file_extension": ".py",
   "mimetype": "text/x-python",
   "name": "python",
   "nbconvert_exporter": "python",
   "pygments_lexer": "ipython3",
   "version": "3.6.5"
  }
 },
 "nbformat": 4,
 "nbformat_minor": 2
}
